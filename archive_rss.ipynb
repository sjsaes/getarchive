{
  "nbformat": 4,
  "nbformat_minor": 0,
  "metadata": {
    "colab": {
      "provenance": [],
      "authorship_tag": "ABX9TyOr1TKsC6DTjZZ0xM6OFjUw",
      "include_colab_link": true
    },
    "kernelspec": {
      "name": "python3",
      "display_name": "Python 3"
    },
    "language_info": {
      "name": "python"
    }
  },
  "cells": [
    {
      "cell_type": "markdown",
      "metadata": {
        "id": "view-in-github",
        "colab_type": "text"
      },
      "source": [
        "<a href=\"https://colab.research.google.com/github/sjsaes/getarchive/blob/main/archive_rss.ipynb\" target=\"_parent\"><img src=\"https://colab.research.google.com/assets/colab-badge.svg\" alt=\"Open In Colab\"/></a>"
      ]
    },
    {
      "cell_type": "markdown",
      "source": [
        "# archive.rss/owensaez\n",
        "### [Github](https://github.com/sjsaes/getarchive)\n",
        "It is recommended to run in Colab for more bandwidth, and download the resulting .zip file.\n",
        "\n",
        "## Environment Variables\n",
        "Modify the environment variables to change what this RSS script does.\n",
        "It is made to work with Archive.org RSS feeds, but realistically any RSS feed with download/stream URLs should work.\n",
        "It is recommended to use the episode threshold feature, as the downloads will take longer if you do not limit the files downloaded.\n",
        "\n",
        "*   **rss_feed_url:** This variable declares where to retrieve the RSS feed URL. Point this to an archive.org RSS feed.\n",
        "*   **download_dir:** Self explanatory. Point this towards a directory available to write and read from that you'll be able to download to.\n",
        "*   **skipped_file:** .txt file to write the names and URLs of files skipped. You'll be able to manually download skipped files if the episode threshold variable wasn't helpful.\n",
        "*   **episode_threshold:** Declares an integer to stop downloads at. Any files that have an episode number newer than this should be skipped, but anything lower will be downloaded.\n",
        "\n",
        "# Run\n",
        "From the ribbon, click \"Runtime\" and select \"Run all\". You may see a warning. Continue to run the script regardless.\n"
      ],
      "metadata": {
        "id": "zbLF7YufYiVD"
      }
    },
    {
      "cell_type": "markdown",
      "source": [
        "Install dependencies **(Do not modify)**"
      ],
      "metadata": {
        "id": "qR0zuKJMVUiP"
      }
    },
    {
      "cell_type": "code",
      "source": [
        "!pip install requests feedparser"
      ],
      "metadata": {
        "id": "ucpCF0ZOVMRE"
      },
      "execution_count": null,
      "outputs": []
    },
    {
      "cell_type": "markdown",
      "source": [
        "Imports **(Do not modify)**"
      ],
      "metadata": {
        "id": "ywzYziP_VcA-"
      }
    },
    {
      "cell_type": "code",
      "source": [
        "import os\n",
        "import re\n",
        "import requests\n",
        "import feedparser\n",
        "import shutil"
      ],
      "metadata": {
        "id": "1Bxy0ZSVVbZH"
      },
      "execution_count": 2,
      "outputs": []
    },
    {
      "cell_type": "markdown",
      "source": [
        "Variables"
      ],
      "metadata": {
        "id": "djrjE3nHUzrH"
      }
    },
    {
      "cell_type": "code",
      "source": [
        "rss_feed_url = \"https://archive.org/services/collection-rss.php?collection=giant-bomb-audio\"\n",
        "download_dir = \"./rips\""
      ],
      "metadata": {
        "id": "vzpGtdTcUZQF"
      },
      "execution_count": 3,
      "outputs": []
    },
    {
      "cell_type": "markdown",
      "source": [
        "Verify directory is ready **(Do not modify)**"
      ],
      "metadata": {
        "id": "G_DakPh-Uw_N"
      }
    },
    {
      "cell_type": "code",
      "source": [
        "os.makedirs(download_dir, exist_ok=True)"
      ],
      "metadata": {
        "id": "OAg8xrQZUvxn"
      },
      "execution_count": 4,
      "outputs": []
    },
    {
      "cell_type": "markdown",
      "source": [
        "[Optional] Skipped record"
      ],
      "metadata": {
        "id": "I7dIF6U8U5Xr"
      }
    },
    {
      "cell_type": "code",
      "source": [
        "skipped_file = \"skipped.txt\""
      ],
      "metadata": {
        "id": "l7e7r65iU10P"
      },
      "execution_count": 5,
      "outputs": []
    },
    {
      "cell_type": "markdown",
      "source": [
        "Episode Threshold"
      ],
      "metadata": {
        "id": "-U-6ckr1VG5j"
      }
    },
    {
      "cell_type": "code",
      "source": [
        "episode_threshold = 850"
      ],
      "metadata": {
        "id": "gxRGpPnwVE0K"
      },
      "execution_count": 6,
      "outputs": []
    },
    {
      "cell_type": "code",
      "source": [
        "feed = feedparser.parse(rss_feed_url)\n",
        "episode_number_regex = re.compile(r'Giant Bombcast (\\d+)')\n",
        "\n",
        "with open(skipped_file, 'w') as skipped_log:\n",
        "    for entry in feed.entries:\n",
        "        title = entry.title\n",
        "        match = episode_number_regex.search(title)\n",
        "\n",
        "        if match:\n",
        "            # extract and compare episode number\n",
        "            episode_number = int(match.group(1))\n",
        "            if episode_number < episode_threshold:\n",
        "                if 'enclosures' in entry:\n",
        "                    for enclosure in entry.enclosures:\n",
        "                        if enclosure.type == 'audio/mpeg':\n",
        "                            mp3_url = enclosure.href\n",
        "                            sanitized_title = title.replace(\"/\", \"_\").replace(\"\\\\\", \"_\").replace(\":\", \"_\").strip()\n",
        "                            file_name = os.path.join(download_dir, f\"{sanitized_title}.mp3\")\n",
        "                            print(f\"Downloading: {mp3_url}\")\n",
        "                            response = requests.get(mp3_url, stream=True)\n",
        "                            if response.status_code == 200:\n",
        "                                with open(file_name, 'wb') as mp3_file:\n",
        "                                    for chunk in response.iter_content(chunk_size=1024):\n",
        "                                        mp3_file.write(chunk)\n",
        "                                print(f\"Saved: {file_name}\")\n",
        "                            else:\n",
        "                                print(f\"Failed to download: {mp3_url} - Status code: {response.status_code}\")\n",
        "                else:\n",
        "                    print(f\"No enclosures found for entry: {title}\")\n",
        "            else:\n",
        "                print(f\"Skipped: {title} (Episode number {episode_number} is >= {episode_threshold})\")\n",
        "        else:\n",
        "            # log titles missing ep number\n",
        "            skipped_log.write(f\"{title} - {entry.link}\\n\")\n",
        "            print(f\"Skipped: {title} (No episode number found)\")"
      ],
      "metadata": {
        "id": "AhGRCgr0U86c"
      },
      "execution_count": null,
      "outputs": []
    },
    {
      "cell_type": "markdown",
      "source": [
        "Compress directory for easy downloading. Recommended way to get all files. Comment or disable line if you would prefer to not compress."
      ],
      "metadata": {
        "id": "yg1UTMVtnqvj"
      }
    },
    {
      "cell_type": "code",
      "source": [
        "shutil.make_archive(download_dir, 'zip', download_dir)"
      ],
      "metadata": {
        "id": "eJmcPky2dLCn"
      },
      "execution_count": null,
      "outputs": []
    }
  ]
}