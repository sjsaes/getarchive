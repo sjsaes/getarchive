{
  "nbformat": 4,
  "nbformat_minor": 0,
  "metadata": {
    "colab": {
      "provenance": [],
      "authorship_tag": "ABX9TyPndpE1f4yxwBNvKpmJ0ZCJ",
      "include_colab_link": true
    },
    "kernelspec": {
      "name": "python3",
      "display_name": "Python 3"
    },
    "language_info": {
      "name": "python"
    }
  },
  "cells": [
    {
      "cell_type": "markdown",
      "metadata": {
        "id": "view-in-github",
        "colab_type": "text"
      },
      "source": [
        "<a href=\"https://colab.research.google.com/github/sjsaes/getarchive/blob/main/archive_rss.ipynb\" target=\"_parent\"><img src=\"https://colab.research.google.com/assets/colab-badge.svg\" alt=\"Open In Colab\"/></a>"
      ]
    },
    {
      "cell_type": "markdown",
      "source": [
        "# archive.rss/owensaez\n",
        "It is recommended to run in Colab for more bandwidth, and download the resulting .zip file.\n",
        "\n",
        "## Environment Variables\n",
        "Modify the environment variables to change what this RSS script does.\n",
        "It is made to work with Archive.org RSS feeds, but realistically any RSS feed with download/stream URLs should work.\n",
        "It is recommended to use the episode threshold feature, as the downloads will take longer if you do not limit the files downloaded.\n",
        "\n",
        "*   **rss_feed_url:** This variable declares where to retrieve the RSS feed URL. Point this to an archive.org RSS feed.\n",
        "*   **download_dir:** Self explanatory. Point this towards a directory available to write and read from that you'll be able to download to.\n",
        "*   **skipped_file:** .txt file to write the names and URLs of files skipped. You'll be able to manually download skipped files if the episode threshold variable wasn't helpful.\n",
        "*   **episode_threshold:** Declares an integer to stop downloads at. Any files that have an episode number newer than this should be skipped, but anything lower will be downloaded.\n",
        "\n",
        "# Run\n",
        "From the ribbon, click \"Runtime\" and select \"Run all\". You may see a warning. Continue to run the script regardless.\n"
      ],
      "metadata": {
        "id": "zbLF7YufYiVD"
      }
    },
    {
      "cell_type": "markdown",
      "source": [
        "Install dependencies **(Do not modify)**"
      ],
      "metadata": {
        "id": "qR0zuKJMVUiP"
      }
    },
    {
      "cell_type": "code",
      "source": [
        "!pip install requests feedparser"
      ],
      "metadata": {
        "colab": {
          "base_uri": "https://localhost:8080/"
        },
        "id": "ucpCF0ZOVMRE",
        "outputId": "0ffb242a-8840-4cce-8256-12bf88bda366"
      },
      "execution_count": 1,
      "outputs": [
        {
          "output_type": "stream",
          "name": "stdout",
          "text": [
            "Requirement already satisfied: requests in /usr/local/lib/python3.11/dist-packages (2.32.3)\n",
            "Collecting feedparser\n",
            "  Downloading feedparser-6.0.11-py3-none-any.whl.metadata (2.4 kB)\n",
            "Requirement already satisfied: charset-normalizer<4,>=2 in /usr/local/lib/python3.11/dist-packages (from requests) (3.4.1)\n",
            "Requirement already satisfied: idna<4,>=2.5 in /usr/local/lib/python3.11/dist-packages (from requests) (3.10)\n",
            "Requirement already satisfied: urllib3<3,>=1.21.1 in /usr/local/lib/python3.11/dist-packages (from requests) (2.3.0)\n",
            "Requirement already satisfied: certifi>=2017.4.17 in /usr/local/lib/python3.11/dist-packages (from requests) (2024.12.14)\n",
            "Collecting sgmllib3k (from feedparser)\n",
            "  Downloading sgmllib3k-1.0.0.tar.gz (5.8 kB)\n",
            "  Preparing metadata (setup.py) ... \u001b[?25l\u001b[?25hdone\n",
            "Downloading feedparser-6.0.11-py3-none-any.whl (81 kB)\n",
            "\u001b[2K   \u001b[90m━━━━━━━━━━━━━━━━━━━━━━━━━━━━━━━━━━━━━━━━\u001b[0m \u001b[32m81.3/81.3 kB\u001b[0m \u001b[31m2.0 MB/s\u001b[0m eta \u001b[36m0:00:00\u001b[0m\n",
            "\u001b[?25hBuilding wheels for collected packages: sgmllib3k\n",
            "  Building wheel for sgmllib3k (setup.py) ... \u001b[?25l\u001b[?25hdone\n",
            "  Created wheel for sgmllib3k: filename=sgmllib3k-1.0.0-py3-none-any.whl size=6047 sha256=db158e06bad54c7f13165a9aa2bd02486ba121834415e45ba5b31b4503e9b678\n",
            "  Stored in directory: /root/.cache/pip/wheels/3b/25/2a/105d6a15df6914f4d15047691c6c28f9052cc1173e40285d03\n",
            "Successfully built sgmllib3k\n",
            "Installing collected packages: sgmllib3k, feedparser\n",
            "Successfully installed feedparser-6.0.11 sgmllib3k-1.0.0\n"
          ]
        }
      ]
    },
    {
      "cell_type": "markdown",
      "source": [
        "Imports **(Do not modify)**"
      ],
      "metadata": {
        "id": "ywzYziP_VcA-"
      }
    },
    {
      "cell_type": "code",
      "source": [
        "import os\n",
        "import re\n",
        "import requests\n",
        "import feedparser\n",
        "import shutil"
      ],
      "metadata": {
        "id": "1Bxy0ZSVVbZH"
      },
      "execution_count": 2,
      "outputs": []
    },
    {
      "cell_type": "markdown",
      "source": [
        "Variables"
      ],
      "metadata": {
        "id": "djrjE3nHUzrH"
      }
    },
    {
      "cell_type": "code",
      "source": [
        "rss_feed_url = \"https://archive.org/services/collection-rss.php?collection=giant-bomb-audio\"\n",
        "download_dir = \"./rips\""
      ],
      "metadata": {
        "id": "vzpGtdTcUZQF"
      },
      "execution_count": 3,
      "outputs": []
    },
    {
      "cell_type": "markdown",
      "source": [
        "Verify directory is ready **(Do not modify)**"
      ],
      "metadata": {
        "id": "G_DakPh-Uw_N"
      }
    },
    {
      "cell_type": "code",
      "source": [
        "os.makedirs(download_dir, exist_ok=True)"
      ],
      "metadata": {
        "id": "OAg8xrQZUvxn"
      },
      "execution_count": 4,
      "outputs": []
    },
    {
      "cell_type": "markdown",
      "source": [
        "[Optional] Skipped record"
      ],
      "metadata": {
        "id": "I7dIF6U8U5Xr"
      }
    },
    {
      "cell_type": "code",
      "source": [
        "skipped_file = \"skipped.txt\""
      ],
      "metadata": {
        "id": "l7e7r65iU10P"
      },
      "execution_count": 5,
      "outputs": []
    },
    {
      "cell_type": "markdown",
      "source": [
        "Episode Threshold"
      ],
      "metadata": {
        "id": "-U-6ckr1VG5j"
      }
    },
    {
      "cell_type": "code",
      "source": [
        "episode_threshold = 850"
      ],
      "metadata": {
        "id": "gxRGpPnwVE0K"
      },
      "execution_count": 6,
      "outputs": []
    },
    {
      "cell_type": "code",
      "source": [
        "feed = feedparser.parse(rss_feed_url)\n",
        "episode_number_regex = re.compile(r'Giant Bombcast (\\d+)')\n",
        "\n",
        "with open(skipped_file, 'w') as skipped_log:\n",
        "    for entry in feed.entries:\n",
        "        title = entry.title\n",
        "        match = episode_number_regex.search(title)\n",
        "\n",
        "        if match:\n",
        "            # extract and compare episode number\n",
        "            episode_number = int(match.group(1))\n",
        "            if episode_number < episode_threshold:\n",
        "                if 'enclosures' in entry:\n",
        "                    for enclosure in entry.enclosures:\n",
        "                        if enclosure.type == 'audio/mpeg':\n",
        "                            mp3_url = enclosure.href\n",
        "                            sanitized_title = title.replace(\"/\", \"_\").replace(\"\\\\\", \"_\").replace(\":\", \"_\").strip()\n",
        "                            file_name = os.path.join(download_dir, f\"{sanitized_title}.mp3\")\n",
        "                            print(f\"Downloading: {mp3_url}\")\n",
        "                            response = requests.get(mp3_url, stream=True)\n",
        "                            if response.status_code == 200:\n",
        "                                with open(file_name, 'wb') as mp3_file:\n",
        "                                    for chunk in response.iter_content(chunk_size=1024):\n",
        "                                        mp3_file.write(chunk)\n",
        "                                print(f\"Saved: {file_name}\")\n",
        "                            else:\n",
        "                                print(f\"Failed to download: {mp3_url} - Status code: {response.status_code}\")\n",
        "                else:\n",
        "                    print(f\"No enclosures found for entry: {title}\")\n",
        "            else:\n",
        "                print(f\"Skipped: {title} (Episode number {episode_number} is >= {episode_threshold})\")\n",
        "        else:\n",
        "            # log titles missing ep number\n",
        "            skipped_log.write(f\"{title} - {entry.link}\\n\")\n",
        "            print(f\"Skipped: {title} (No episode number found)\")"
      ],
      "metadata": {
        "colab": {
          "base_uri": "https://localhost:8080/"
        },
        "id": "AhGRCgr0U86c",
        "outputId": "632cdc46-aa82-4be1-bff0-5c63f2e1597c"
      },
      "execution_count": null,
      "outputs": [
        {
          "output_type": "stream",
          "name": "stdout",
          "text": [
            "Skipped: Giant Bombcast 858: REVENGEANCE | Dragon Age: The Veilguard Preview (Episode number 858 is >= 850)\n",
            "Downloading: https://archive.org/download/gb-1600-4315-ID0AM65/format=VBR+MP3&ignore=x.mp3\n",
            "Saved: ./rips/Giant Bombcast 791_ Dark Cloud 2.mp3\n",
            "Downloading: https://archive.org/download/gb-1600-4326-IDS0SGW/format=VBR+MP3&ignore=x.mp3\n",
            "Saved: ./rips/Giant Bombcast 792_ Bad YouTubers.mp3\n",
            "Skipped: Giant Bomb at Nite: Night 1 (No episode number evident)\n",
            "Skipped: Giant Bomb at Nite: Night 2 (No episode number evident)\n",
            "Skipped: Giant Bomb at Nite: Night 3 (No episode number evident)\n",
            "Downloading: https://archive.org/download/gb-1600-4335-IDL16KZ/format=VBR+MP3&ignore=x.mp3\n",
            "Saved: ./rips/Giant Bombcast 793_ RAMEN GOBLINS.mp3\n",
            "Downloading: https://archive.org/download/gb-1600-4339-IDCVHSF/format=VBR+MP3&ignore=x.mp3\n",
            "Saved: ./rips/Giant Bombcast 794_ Default Milk.mp3\n",
            "Downloading: https://archive.org/download/gb-1600-4347-ID6FQR6/format=VBR+MP3&ignore=x.mp3\n",
            "Saved: ./rips/Giant Bombcast 795_ Bros Before Chocobos.mp3\n",
            "Downloading: https://archive.org/download/gb-1600-4356-ID5VAPL/format=VBR+MP3&ignore=x.mp3\n",
            "Saved: ./rips/Giant Bombcast 796_ ONE BIG FRY.mp3\n",
            "Downloading: https://archive.org/download/gb-1600-4367-IDC5ZH8/format=VBR+MP3&ignore=x.mp3\n",
            "Saved: ./rips/Giant Bombcast 797_ WEB3 VECTORMAN.mp3\n",
            "Downloading: https://archive.org/download/gb-1600-4377-IDEYJJL/format=VBR+MP3&ignore=x.mp3\n",
            "Saved: ./rips/Giant Bombcast 798_ Z-Targetting My Wife.mp3\n",
            "Downloading: https://archive.org/download/gb-1600-4389-IDQ42VM/format=VBR+MP3&ignore=x.mp3\n",
            "Saved: ./rips/Giant Bombcast 799_ Gollum Week.mp3\n",
            "Downloading: https://archive.org/download/gb-1600-4394-ID781PL/format=VBR+MP3&ignore=x.mp3\n",
            "Saved: ./rips/Giant Bombcast 800_ Love Tunnel.mp3\n",
            "Downloading: https://archive.org/download/gb-1600-4406-IDJ6LOH/format=VBR+MP3&ignore=x.mp3\n",
            "Saved: ./rips/Giant Bombcast 801_ Waluigi Coded.mp3\n",
            "Downloading: https://archive.org/download/gb-1600-4415-ID8ZKVF/format=VBR+MP3&ignore=x.mp3\n",
            "Saved: ./rips/Giant Bombcast 802_ ILOVETRAINS.mp3\n",
            "Downloading: https://archive.org/download/gb-1600-4432-IDAT2SO/format=VBR+MP3&ignore=x.mp3\n",
            "Saved: ./rips/Giant Bombcast 803_ Vegan Options.mp3\n",
            "Downloading: https://archive.org/download/gb-1600-4445-IDEXOTL/format=VBR+MP3&ignore=x.mp3\n",
            "Saved: ./rips/Giant Bombcast 804_ Gamer Cruise.mp3\n",
            "Downloading: https://archive.org/download/gb-1600-4450-ID16Z7G/format=VBR+MP3&ignore=x.mp3\n",
            "Saved: ./rips/Giant Bombcast 805_ French Cinema.mp3\n",
            "Downloading: https://archive.org/download/gb-1600-4465-IDS9UXH/format=VBR+MP3&ignore=x.mp3\n",
            "Saved: ./rips/Giant Bombcast 806_ PANIC BUTTON.mp3\n",
            "Downloading: https://archive.org/download/gb-1600-4525-ID026H7/format=VBR+MP3&ignore=x.mp3\n",
            "Saved: ./rips/Giant Bombcast 807_ Bird Lore.mp3\n",
            "Downloading: https://archive.org/download/gb-1600-4539-IDX3J4O/format=VBR+MP3&ignore=x.mp3\n",
            "Saved: ./rips/Giant Bombcast 808_ Frodo's Not Rocky.mp3\n",
            "Downloading: https://archive.org/download/gb-1600-4551-IDQAGN0/format=VBR+MP3&ignore=x.mp3\n",
            "Saved: ./rips/Giant Bombcast 809_ Bean Based.mp3\n",
            "Downloading: https://archive.org/download/gb-1600-4565-ID3PPNX/format=VBR+MP3&ignore=x.mp3\n",
            "Saved: ./rips/Giant Bombcast 810_ Shy Guy Anatomy.mp3\n",
            "Downloading: https://archive.org/download/gb-1600-4579-IDN8J8R/format=VBR+MP3&ignore=x.mp3\n",
            "Saved: ./rips/Giant Bombcast 811_ Sweet Thigh Meat.mp3\n",
            "Downloading: https://archive.org/download/gb-1600-4599-IDDQYES/format=VBR+MP3&ignore=x.mp3\n"
          ]
        }
      ]
    },
    {
      "cell_type": "code",
      "source": [
        "shutil.make_archive(download_dir, 'zip', download_dir)"
      ],
      "metadata": {
        "id": "eJmcPky2dLCn"
      },
      "execution_count": null,
      "outputs": []
    }
  ]
}