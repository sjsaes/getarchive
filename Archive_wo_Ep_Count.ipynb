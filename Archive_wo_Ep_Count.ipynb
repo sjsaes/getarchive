{
  "nbformat": 4,
  "nbformat_minor": 0,
  "metadata": {
    "colab": {
      "provenance": [],
      "authorship_tag": "ABX9TyOPZHktqSzQ98UqgXtWiBtm",
      "include_colab_link": true
    },
    "kernelspec": {
      "name": "python3",
      "display_name": "Python 3"
    },
    "language_info": {
      "name": "python"
    }
  },
  "cells": [
    {
      "cell_type": "markdown",
      "metadata": {
        "id": "view-in-github",
        "colab_type": "text"
      },
      "source": [
        "<a href=\"https://colab.research.google.com/github/sjsaes/getarchive/blob/main/Archive_wo_Ep_Count.ipynb\" target=\"_parent\"><img src=\"https://colab.research.google.com/assets/colab-badge.svg\" alt=\"Open In Colab\"/></a>"
      ]
    },
    {
      "cell_type": "markdown",
      "source": [
        "# archive.rss (Without ep. count)\n",
        "### [Github](https://github.com/sjsaes/getarchive)\n",
        "It is recommended to run in Colab for more bandwidth, and download the resulting .zip file.\n",
        "\n",
        "## Environment Variables\n",
        "Modify the environment variables to change what this RSS script does.\n",
        "It is made to work with Archive.org RSS feeds, but realistically any RSS feed with download/stream URLs should work.\n",
        "It is recommended to use the episode threshold feature, as the downloads will take longer if you do not limit the files downloaded.\n",
        "\n",
        "*   **rss_feed_url:** This variable declares where to retrieve the RSS feed URL. Point this to an archive.org RSS feed.\n",
        "*   **download_dir:** Self explanatory. Point this towards a directory available to write and read from that you'll be able to download to.\n",
        "\n",
        "# Run\n",
        "From the ribbon, click \"Runtime\" and select \"Run all\". You may see a warning. Continue to run the script regardless.\n"
      ],
      "metadata": {
        "id": "zbLF7YufYiVD"
      }
    },
    {
      "cell_type": "markdown",
      "source": [
        "Install dependencies **(Do not modify)**"
      ],
      "metadata": {
        "id": "1v_Gnyg5OLy4"
      }
    },
    {
      "cell_type": "code",
      "source": [
        "!pip install requests feedparser"
      ],
      "metadata": {
        "id": "HQKqo3Q5NY8F"
      },
      "execution_count": null,
      "outputs": []
    },
    {
      "cell_type": "markdown",
      "source": [
        "Imports **(Do not modify)**"
      ],
      "metadata": {
        "id": "7W1r-XTfORSi"
      }
    },
    {
      "cell_type": "code",
      "source": [
        "import os\n",
        "import requests\n",
        "import feedparser"
      ],
      "metadata": {
        "id": "SY7R2lZrNaeG"
      },
      "execution_count": null,
      "outputs": []
    },
    {
      "cell_type": "markdown",
      "source": [
        "Variables"
      ],
      "metadata": {
        "id": "oJC2hhG4OX2u"
      }
    },
    {
      "cell_type": "code",
      "source": [
        "rss_feed_url = \"https://archive.org/services/collection-rss.php?collection=giant-bomb-audio\"\n",
        "download_dir = \"/Volumes/SeaData/Giant Bomb Bombcast Rips\""
      ],
      "metadata": {
        "id": "fAGTxAFlNcKw"
      },
      "execution_count": null,
      "outputs": []
    },
    {
      "cell_type": "markdown",
      "source": [
        "Verify directory is ready **(Do not modify)**"
      ],
      "metadata": {
        "id": "XuCjINvIObfj"
      }
    },
    {
      "cell_type": "code",
      "source": [
        "os.makedirs(download_dir, exist_ok=True)"
      ],
      "metadata": {
        "id": "nH6GjXxfNeKs"
      },
      "execution_count": null,
      "outputs": []
    },
    {
      "cell_type": "code",
      "execution_count": null,
      "metadata": {
        "id": "uaKHfwemNSQJ"
      },
      "outputs": [],
      "source": [
        "feed = feedparser.parse(rss_feed_url)\n",
        "\n",
        "for entry in feed.entries:\n",
        "    title = entry.title.replace(\"/\", \"_\").replace(\"\\\\\", \"_\").replace(\":\", \"_\").strip()\n",
        "    if 'enclosures' in entry:\n",
        "        for enclosure in entry.enclosures:\n",
        "            if enclosure.type == 'audio/mpeg':\n",
        "                mp3_url = enclosure.href\n",
        "                file_name = os.path.join(download_dir, f\"{title}.mp3\")\n",
        "                print(f\"Downloading: {mp3_url}\")\n",
        "                response = requests.get(mp3_url, stream=True)\n",
        "                if response.status_code == 200:\n",
        "                    with open(file_name, 'wb') as mp3_file:\n",
        "                        for chunk in response.iter_content(chunk_size=1024):\n",
        "                            mp3_file.write(chunk)\n",
        "                    print(f\"Saved: {file_name}\")\n",
        "                else:\n",
        "                    print(f\"Failed to download: {mp3_url} - Status code: {response.status_code}\")\n",
        "    else:\n",
        "        print(f\"No enc found for entry: {entry.title}\")"
      ]
    },
    {
      "cell_type": "markdown",
      "source": [
        "Compress directory for easy downloading. Recommended way to get all files. Comment or disable line if you would prefer to not compress."
      ],
      "metadata": {
        "id": "yg1UTMVtnqvj"
      }
    },
    {
      "cell_type": "code",
      "source": [
        "shutil.make_archive(download_dir, 'zip', download_dir)"
      ],
      "metadata": {
        "id": "eJmcPky2dLCn"
      },
      "execution_count": null,
      "outputs": []
    }
  ]
}